{
  "nbformat": 4,
  "nbformat_minor": 0,
  "metadata": {
    "colab": {
      "name": "ImageCaptioning_download_COCO2014.ipynb",
      "provenance": [],
      "collapsed_sections": []
    },
    "kernelspec": {
      "name": "python3",
      "display_name": "Python 3"
    },
    "language_info": {
      "name": "python"
    },
    "accelerator": "GPU"
  },
  "cells": [
    {
      "cell_type": "markdown",
      "source": [
        "# Image Captioning - Download COCO Dataset\n",
        "\n",
        "*Last Updated: 01/28/2022*\n",
        "\n",
        "This notebook will download the COCO dataset to the Google Drive. This notebook will only need to be run once.\n",
        "\n",
        "\n",
        "\n",
        "**References**\n",
        " \n",
        "1. Udacity's Computer Vision Nanodegree\n",
        "2. https://github.com/cocodataset/cocoapi\n",
        "3. https://colab.research.google.com/github/rammyram/image_captioning/blob/master/Image_Captioning.ipynb\n",
        "\n",
        "**Prerequisite**\n",
        "\n",
        "Please connect to your Google drive before running this notebook."
      ],
      "metadata": {
        "id": "13QJ2U-Nc3zQ"
      }
    },
    {
      "cell_type": "markdown",
      "source": [
        "## Import Libraries"
      ],
      "metadata": {
        "id": "OTqjEOdPdmRW"
      }
    },
    {
      "cell_type": "code",
      "execution_count": 1,
      "metadata": {
        "id": "n7pqsXb5bTS1"
      },
      "outputs": [],
      "source": [
        "from pycocotools.coco import COCO\n",
        "import os\n",
        "import urllib\n",
        "import zipfile"
      ]
    },
    {
      "cell_type": "markdown",
      "source": [
        "## Unzip Function\n",
        "\n",
        "We will use the helper function `unzipping` to unzip .zip files to the paths we want."
      ],
      "metadata": {
        "id": "z0GehHSakqV6"
      }
    },
    {
      "cell_type": "code",
      "source": [
        "## The unzipping function\n",
        "def unzipping(zip_file_name, dest_dir):\n",
        "    \"\"\"\n",
        "    Unzip the zip file to the destination path\n",
        "    Args\n",
        "        zip_file_name: (str) the file name of the zip file\n",
        "        dest_dir: (str) the name of the destination folder\n",
        "    \"\"\"\n",
        "    \n",
        "    # check if the destination folder exists. Create one if not.\n",
        "    if not os.path.exists(dest_dir):\n",
        "        os.makedirs(dest_dir)\n",
        "    \n",
        "    # unzipping\n",
        "    zip_f = zipfile.ZipFile(zip_file_name, 'r')\n",
        "    zip_f.extractall(path=dest_dir)\n",
        "    zip_f.close()"
      ],
      "metadata": {
        "id": "I6W83RhZk3e2"
      },
      "execution_count": 12,
      "outputs": []
    },
    {
      "cell_type": "markdown",
      "source": [
        "## Destination of Downloaded Data\n",
        "\n",
        "I choose the path \\content\\drive\\MyDrive\\ImageCaptioning\\opt to store COCOAPI."
      ],
      "metadata": {
        "id": "sVIo7JAgiA9J"
      }
    },
    {
      "cell_type": "code",
      "source": [
        "# create COCOAPI folder\n",
        "os.makedirs('/content/drive/MyDrive/ImageCaptioning/opt', exist_ok=True)"
      ],
      "metadata": {
        "id": "c_Mbng5Dchd6"
      },
      "execution_count": 2,
      "outputs": []
    },
    {
      "cell_type": "code",
      "source": [
        "# move to opt\n",
        "os.chdir('/content/drive/MyDrive/ImageCaptioning/opt')\n",
        "!pwd"
      ],
      "metadata": {
        "colab": {
          "base_uri": "https://localhost:8080/"
        },
        "id": "S8E7kd1xc9my",
        "outputId": "8e6badb8-6c4f-4adf-eea7-eeef67385623"
      },
      "execution_count": 8,
      "outputs": [
        {
          "output_type": "stream",
          "name": "stdout",
          "text": [
            "/content/drive/MyDrive/ImageCaptioning/opt\n"
          ]
        }
      ]
    },
    {
      "cell_type": "code",
      "source": [
        "# clone COCOAPI repo\n",
        "!git clone 'https://github.com/cocodataset/cocoapi.git'"
      ],
      "metadata": {
        "colab": {
          "base_uri": "https://localhost:8080/"
        },
        "id": "Le-CQUqFdIg5",
        "outputId": "04c12aa7-a1cd-4ded-f368-a062abd52e7b"
      },
      "execution_count": 9,
      "outputs": [
        {
          "output_type": "stream",
          "name": "stdout",
          "text": [
            "Cloning into 'cocoapi'...\n",
            "remote: Enumerating objects: 975, done.\u001b[K\n",
            "remote: Total 975 (delta 0), reused 0 (delta 0), pack-reused 975\u001b[K\n",
            "Receiving objects: 100% (975/975), 11.72 MiB | 5.23 MiB/s, done.\n",
            "Resolving deltas: 100% (576/576), done.\n"
          ]
        }
      ]
    },
    {
      "cell_type": "code",
      "source": [
        "# move to /cocoapi\n",
        "os.chdir('/content/drive/MyDrive/ImageCaptioning/opt/cocoapi')\n",
        "!pwd"
      ],
      "metadata": {
        "colab": {
          "base_uri": "https://localhost:8080/"
        },
        "id": "JryCcbvydLG6",
        "outputId": "bafd54ba-0ac5-43d6-943e-6122b594893f"
      },
      "execution_count": 10,
      "outputs": [
        {
          "output_type": "stream",
          "name": "stdout",
          "text": [
            "/content/drive/MyDrive/ImageCaptioning/opt/cocoapi\n"
          ]
        }
      ]
    },
    {
      "cell_type": "markdown",
      "source": [
        "## Download annotation data"
      ],
      "metadata": {
        "id": "U0xXoPVVknD7"
      }
    },
    {
      "cell_type": "code",
      "source": [
        "# make sure we're in the cocoapi folder\n",
        "!pwd"
      ],
      "metadata": {
        "colab": {
          "base_uri": "https://localhost:8080/"
        },
        "id": "7XOymdwSkcip",
        "outputId": "425d1296-93e8-4c01-9b88-8af65f503428"
      },
      "execution_count": 13,
      "outputs": [
        {
          "output_type": "stream",
          "name": "stdout",
          "text": [
            "/content/drive/MyDrive/ImageCaptioning/opt/cocoapi\n"
          ]
        }
      ]
    },
    {
      "cell_type": "code",
      "source": [
        "# download annotation data for training and validation dataset (ver: 2014)\n",
        "urllib.request.urlretrieve(url='http://images.cocodataset.org/annotations/annotations_trainval2014.zip', filename='annotations_trainval2014.zip')"
      ],
      "metadata": {
        "colab": {
          "base_uri": "https://localhost:8080/"
        },
        "id": "WuBQLKEHkBsI",
        "outputId": "27e5209b-1e77-4e22-87bb-daab27be7a8c"
      },
      "execution_count": 14,
      "outputs": [
        {
          "output_type": "execute_result",
          "data": {
            "text/plain": [
              "('annotations_trainval2014.zip', <http.client.HTTPMessage at 0x7f56089eb210>)"
            ]
          },
          "metadata": {},
          "execution_count": 14
        }
      ]
    },
    {
      "cell_type": "code",
      "source": [
        "# unzip into the same folder (cocoapi)\n",
        "unzipping('annotations_trainval2014.zip', '/content/drive/MyDrive/ImageCaptioning/opt/cocoapi')"
      ],
      "metadata": {
        "id": "eJVY9UpNekWX"
      },
      "execution_count": 17,
      "outputs": []
    },
    {
      "cell_type": "markdown",
      "source": [
        "A folder `annotations` will now be created in the `cocoapi` folder."
      ],
      "metadata": {
        "id": "Eh5WI23Qm95e"
      }
    },
    {
      "cell_type": "code",
      "source": [
        "# remove the original zip file\n",
        "os.remove('annotations_trainval2014.zip')"
      ],
      "metadata": {
        "id": "B7xcEWpCmYvC"
      },
      "execution_count": 19,
      "outputs": []
    },
    {
      "cell_type": "markdown",
      "source": [
        "## Download testing image info"
      ],
      "metadata": {
        "id": "AdGSug1opsqE"
      }
    },
    {
      "cell_type": "code",
      "source": [
        "# make sure we're insode the cocoapi folder\n",
        "!pwd"
      ],
      "metadata": {
        "colab": {
          "base_uri": "https://localhost:8080/"
        },
        "id": "wZWg4qUqp_9J",
        "outputId": "5223fab2-73c2-4e0d-8fc5-ad36de1b6fc8"
      },
      "execution_count": 24,
      "outputs": [
        {
          "output_type": "stream",
          "name": "stdout",
          "text": [
            "/content/drive/MyDrive/ImageCaptioning/opt/cocoapi\n"
          ]
        }
      ]
    },
    {
      "cell_type": "code",
      "source": [
        "# download testing image info (ver: 2014)\n",
        "urllib.request.urlretrieve(url='http://images.cocodataset.org/annotations/image_info_test2014.zip', filename='image_info_test2014.zip')"
      ],
      "metadata": {
        "colab": {
          "base_uri": "https://localhost:8080/"
        },
        "id": "Cmi3zcwBqDiZ",
        "outputId": "1288ef30-be12-4b4f-afe5-fe1ce7ea7fff"
      },
      "execution_count": 25,
      "outputs": [
        {
          "output_type": "execute_result",
          "data": {
            "text/plain": [
              "('image_info_test2014.zip', <http.client.HTTPMessage at 0x7f56085556d0>)"
            ]
          },
          "metadata": {},
          "execution_count": 25
        }
      ]
    },
    {
      "cell_type": "code",
      "source": [
        "# unzip into the same folder (cocoapi)\n",
        "unzipping('image_info_test2014.zip', '/content/drive/MyDrive/ImageCaptioning/opt/cocoapi')"
      ],
      "metadata": {
        "id": "xdrxFnsCqS5i"
      },
      "execution_count": 26,
      "outputs": []
    },
    {
      "cell_type": "code",
      "source": [
        "# remove the original zip file\n",
        "os.remove('image_info_test2014.zip')"
      ],
      "metadata": {
        "id": "Ko4sNQN1qWmZ"
      },
      "execution_count": 27,
      "outputs": []
    },
    {
      "cell_type": "markdown",
      "source": [
        "## Download Images\n",
        "\n",
        "We're now going to download all the images from the COCO Dataset. The size of the dataset will be around ~25GB in total.\n",
        "\n",
        "Check your free space first!"
      ],
      "metadata": {
        "id": "-EqXYiR8gQQt"
      }
    },
    {
      "cell_type": "code",
      "source": [
        "# make sure we're in the cocoapi folder\n",
        "!pwd"
      ],
      "metadata": {
        "colab": {
          "base_uri": "https://localhost:8080/"
        },
        "id": "Zh65duEhncrY",
        "outputId": "5a478e8e-da0b-4a22-c315-4ec75fbab5e1"
      },
      "execution_count": 20,
      "outputs": [
        {
          "output_type": "stream",
          "name": "stdout",
          "text": [
            "/content/drive/MyDrive/ImageCaptioning/opt/cocoapi\n"
          ]
        }
      ]
    },
    {
      "cell_type": "code",
      "source": [
        "# download training, validation, and testing images\n",
        "urllib.request.urlretrieve(url='http://images.cocodataset.org/zips/train2014.zip', filename='train2014.zip')\n",
        "urllib.request.urlretrieve(url='http://images.cocodataset.org/zips/val2014.zip', filename='val2014.zip')\n",
        "urllib.request.urlretrieve(url='http://images.cocodataset.org/zips/test2014.zip', filename='test2014.zip')"
      ],
      "metadata": {
        "colab": {
          "base_uri": "https://localhost:8080/"
        },
        "id": "_5BuIlMBgSVH",
        "outputId": "7e6466a8-6245-4244-a0ec-50529e549ec0"
      },
      "execution_count": 21,
      "outputs": [
        {
          "output_type": "execute_result",
          "data": {
            "text/plain": [
              "('test2014.zip', <http.client.HTTPMessage at 0x7f56090e5310>)"
            ]
          },
          "metadata": {},
          "execution_count": 21
        }
      ]
    },
    {
      "cell_type": "code",
      "source": [
        "# unzip images\n",
        "unzipping('train2014.zip', '/content/drive/MyDrive/ImageCaptioning/opt/cocoapi')\n",
        "unzipping('val2014.zip', '/content/drive/MyDrive/ImageCaptioning/opt/cocoapi')\n",
        "unzipping('test2014.zip', '/content/drive/MyDrive/ImageCaptioning/opt/cocoapi')"
      ],
      "metadata": {
        "id": "4GC4W_O_gWy5"
      },
      "execution_count": 22,
      "outputs": []
    },
    {
      "cell_type": "code",
      "source": [
        "# remove zip files\n",
        "os.remove('train2014.zip')\n",
        "os.remove('val2014.zip')\n",
        "os.remove('test2014.zip')"
      ],
      "metadata": {
        "id": "AmO4oh5wgqum"
      },
      "execution_count": 23,
      "outputs": []
    },
    {
      "cell_type": "markdown",
      "source": [
        "## Initialize COCO API"
      ],
      "metadata": {
        "id": "R2zluMenq9_u"
      }
    },
    {
      "cell_type": "code",
      "source": [
        "import sys\n",
        "sys.path.append('/content/drive/MyDrive/ImageCaptioning/opt/cocoapi/PythonAPI')"
      ],
      "metadata": {
        "id": "oFdvCsWMrOPB"
      },
      "execution_count": 28,
      "outputs": []
    },
    {
      "cell_type": "code",
      "source": [
        "# initialize instance annotation\n",
        "instance_data_type = 'train'\n",
        "instance_data_path = '/content/drive/MyDrive/ImageCaptioning/opt/cocoapi/annotations/instances_{}2014.json'.format(instance_data_type)\n",
        "coco = COCO(instance_data_path)"
      ],
      "metadata": {
        "colab": {
          "base_uri": "https://localhost:8080/"
        },
        "id": "4osjY9j8rY5q",
        "outputId": "32bdad22-cd19-49f3-820a-17d6dc41f621"
      },
      "execution_count": 31,
      "outputs": [
        {
          "output_type": "stream",
          "name": "stdout",
          "text": [
            "loading annotations into memory...\n",
            "Done (t=13.74s)\n",
            "creating index...\n",
            "index created!\n"
          ]
        }
      ]
    },
    {
      "cell_type": "code",
      "source": [
        "# initialize caption annotations\n",
        "caption_data_type = 'train'\n",
        "caption_data_path = '/content/drive/MyDrive/ImageCaptioning/opt/cocoapi/annotations/captions_{}2014.json'.format(caption_data_type)\n",
        "coco_caps = COCO(caption_data_path)"
      ],
      "metadata": {
        "colab": {
          "base_uri": "https://localhost:8080/"
        },
        "id": "1inDX0hC9jKF",
        "outputId": "9f31f088-2fa4-48a6-dd61-193e234d79a9"
      },
      "execution_count": 33,
      "outputs": [
        {
          "output_type": "stream",
          "name": "stdout",
          "text": [
            "loading annotations into memory...\n",
            "Done (t=1.34s)\n",
            "creating index...\n",
            "index created!\n"
          ]
        }
      ]
    },
    {
      "cell_type": "code",
      "source": [
        "# get image ids\n",
        "ids = list(coco.anns.keys())\n",
        "print(\"Length of ids: {}\".format(len(ids)))"
      ],
      "metadata": {
        "colab": {
          "base_uri": "https://localhost:8080/"
        },
        "id": "QOmbuXGl97GX",
        "outputId": "3a7aa4de-b824-4796-b80f-4ac47294e028"
      },
      "execution_count": 39,
      "outputs": [
        {
          "output_type": "stream",
          "name": "stdout",
          "text": [
            "Length of ids: 604907\n"
          ]
        }
      ]
    },
    {
      "cell_type": "code",
      "source": [
        "ids[0]"
      ],
      "metadata": {
        "colab": {
          "base_uri": "https://localhost:8080/"
        },
        "id": "bimJWW69-MbF",
        "outputId": "5e2b0b15-0db5-40d7-db82-a6a5fd0725da"
      },
      "execution_count": 40,
      "outputs": [
        {
          "output_type": "execute_result",
          "data": {
            "text/plain": [
              "86"
            ]
          },
          "metadata": {},
          "execution_count": 40
        }
      ]
    },
    {
      "cell_type": "markdown",
      "source": [
        "## Plot a sample image"
      ],
      "metadata": {
        "id": "_qBnBnHZ-dCO"
      }
    },
    {
      "cell_type": "code",
      "source": [
        "import numpy as np\n",
        "import skimage.io as io\n",
        "import matplotlib.pyplot as plt\n",
        "\n",
        "%matplotlib inline"
      ],
      "metadata": {
        "id": "BIEfnoWO-Zyl"
      },
      "execution_count": 41,
      "outputs": []
    },
    {
      "cell_type": "code",
      "source": [
        "# random select an index\n",
        "ann_id = np.random.choice(ids)\n",
        "print(\"ann_id = {}\".format(ann_id))\n",
        "\n",
        "# image id\n",
        "img_id = coco.anns[ann_id]['image_id']\n",
        "print(\"img_id: {}\".format(img_id))\n",
        "\n",
        "# image\n",
        "img = coco.loadImgs(img_id)[0]\n",
        "\n",
        "# url\n",
        "url = img['coco_url']\n",
        "print(url)\n",
        "\n",
        "# plot\n",
        "plt.imshow(io.imread(url))\n",
        "plt.axis('off')\n",
        "plt.show()\n",
        "\n",
        "# print all captions\n",
        "annIds = coco_caps.getAnnIds(imgIds=img_id);\n",
        "anns = coco_caps.loadAnns(annIds)\n",
        "coco_caps.showAnns(anns)"
      ],
      "metadata": {
        "colab": {
          "base_uri": "https://localhost:8080/",
          "height": 387
        },
        "id": "x5u-lAa4-i9F",
        "outputId": "b8e289ae-f35f-4152-b71a-934671ff5ae8"
      },
      "execution_count": 58,
      "outputs": [
        {
          "output_type": "stream",
          "name": "stdout",
          "text": [
            "ann_id = 16692\n",
            "img_id: 279530\n",
            "http://images.cocodataset.org/train2014/COCO_train2014_000000279530.jpg\n"
          ]
        },
        {
          "output_type": "display_data",
          "data": {
            "image/png": "[encoded data removed]",
            "text/plain": [
              "<Figure size 432x288 with 1 Axes>"
            ]
          },
          "metadata": {
            "needs_background": "light"
          }
        },
        {
          "output_type": "stream",
          "name": "stdout",
          "text": [
            "Cross country skier being assisted by two husky dogs\n",
            "a woman stands in the snow on skis being pulled by two dogs\n",
            "A woman on skis has reins attached to two husky dogs.\n",
            "Picture of some animals and a person in the snow.\n",
            "Woman on snow skis being pulled by dogs.\n"
          ]
        }
      ]
    },
    {
      "cell_type": "code",
      "source": [
        ""
      ],
      "metadata": {
        "id": "jXKVd2BfA_yV"
      },
      "execution_count": null,
      "outputs": []
    }
  ]
}